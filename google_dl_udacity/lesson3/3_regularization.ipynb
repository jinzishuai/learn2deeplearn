{
 "cells": [
  {
   "cell_type": "markdown",
   "metadata": {
    "colab_type": "text",
    "id": "kR-4eNdK6lYS"
   },
   "source": [
    "Deep Learning\n",
    "=============\n",
    "\n",
    "Assignment 3\n",
    "------------\n",
    "\n",
    "Previously in `2_fullyconnected.ipynb`, you trained a logistic regression and a neural network model.\n",
    "\n",
    "The goal of this assignment is to explore regularization techniques."
   ]
  },
  {
   "cell_type": "code",
   "execution_count": 1,
   "metadata": {
    "cellView": "both",
    "colab": {
     "autoexec": {
      "startup": false,
      "wait_interval": 0
     }
    },
    "colab_type": "code",
    "id": "JLpLa8Jt7Vu4"
   },
   "outputs": [
    {
     "name": "stderr",
     "output_type": "stream",
     "text": [
      "e:\\python36\\lib\\site-packages\\h5py\\__init__.py:36: FutureWarning: Conversion of the second argument of issubdtype from `float` to `np.floating` is deprecated. In future, it will be treated as `np.float64 == np.dtype(float).type`.\n",
      "  from ._conv import register_converters as _register_converters\n"
     ]
    }
   ],
   "source": [
    "# These are all the modules we'll be using later. Make sure you can import them\n",
    "# before proceeding further.\n",
    "from __future__ import print_function\n",
    "import numpy as np\n",
    "import tensorflow as tf\n",
    "from six.moves import cPickle as pickle"
   ]
  },
  {
   "cell_type": "markdown",
   "metadata": {
    "colab_type": "text",
    "id": "1HrCK6e17WzV"
   },
   "source": [
    "First reload the data we generated in `1_notmnist.ipynb`."
   ]
  },
  {
   "cell_type": "code",
   "execution_count": 2,
   "metadata": {
    "cellView": "both",
    "colab": {
     "autoexec": {
      "startup": false,
      "wait_interval": 0
     },
     "output_extras": [
      {
       "item_id": 1
      }
     ]
    },
    "colab_type": "code",
    "executionInfo": {
     "elapsed": 11777,
     "status": "ok",
     "timestamp": 1449849322348,
     "user": {
      "color": "",
      "displayName": "",
      "isAnonymous": false,
      "isMe": true,
      "permissionId": "",
      "photoUrl": "",
      "sessionId": "0",
      "userId": ""
     },
     "user_tz": 480
    },
    "id": "y3-cj1bpmuxc",
    "outputId": "e03576f1-ebbe-4838-c388-f1777bcc9873"
   },
   "outputs": [
    {
     "name": "stdout",
     "output_type": "stream",
     "text": [
      "Training set (200000, 28, 28) (200000,)\n",
      "Validation set (10000, 28, 28) (10000,)\n",
      "Test set (10000, 28, 28) (10000,)\n"
     ]
    }
   ],
   "source": [
    "pickle_file = '../notMNIST.pickle'\n",
    "\n",
    "with open(pickle_file, 'rb') as f:\n",
    "  save = pickle.load(f)\n",
    "  train_dataset = save['train_dataset']\n",
    "  train_labels = save['train_labels']\n",
    "  valid_dataset = save['valid_dataset']\n",
    "  valid_labels = save['valid_labels']\n",
    "  test_dataset = save['test_dataset']\n",
    "  test_labels = save['test_labels']\n",
    "  del save  # hint to help gc free up memory\n",
    "  print('Training set', train_dataset.shape, train_labels.shape)\n",
    "  print('Validation set', valid_dataset.shape, valid_labels.shape)\n",
    "  print('Test set', test_dataset.shape, test_labels.shape)"
   ]
  },
  {
   "cell_type": "markdown",
   "metadata": {
    "colab_type": "text",
    "id": "L7aHrm6nGDMB"
   },
   "source": [
    "Reformat into a shape that's more adapted to the models we're going to train:\n",
    "- data as a flat matrix,\n",
    "- labels as float 1-hot encodings."
   ]
  },
  {
   "cell_type": "code",
   "execution_count": 3,
   "metadata": {
    "cellView": "both",
    "colab": {
     "autoexec": {
      "startup": false,
      "wait_interval": 0
     },
     "output_extras": [
      {
       "item_id": 1
      }
     ]
    },
    "colab_type": "code",
    "executionInfo": {
     "elapsed": 11728,
     "status": "ok",
     "timestamp": 1449849322356,
     "user": {
      "color": "",
      "displayName": "",
      "isAnonymous": false,
      "isMe": true,
      "permissionId": "",
      "photoUrl": "",
      "sessionId": "0",
      "userId": ""
     },
     "user_tz": 480
    },
    "id": "IRSyYiIIGIzS",
    "outputId": "3f8996ee-3574-4f44-c953-5c8a04636582"
   },
   "outputs": [
    {
     "name": "stdout",
     "output_type": "stream",
     "text": [
      "Training set (200000, 784) (200000, 10)\n",
      "Validation set (10000, 784) (10000, 10)\n",
      "Test set (10000, 784) (10000, 10)\n"
     ]
    }
   ],
   "source": [
    "image_size = 28\n",
    "num_labels = 10\n",
    "\n",
    "def reformat(dataset, labels):\n",
    "  dataset = dataset.reshape((-1, image_size * image_size)).astype(np.float32)\n",
    "  # Map 1 to [0.0, 1.0, 0.0 ...], 2 to [0.0, 0.0, 1.0 ...]\n",
    "  labels = (np.arange(num_labels) == labels[:,None]).astype(np.float32)\n",
    "  return dataset, labels\n",
    "train_dataset, train_labels = reformat(train_dataset, train_labels)\n",
    "valid_dataset, valid_labels = reformat(valid_dataset, valid_labels)\n",
    "test_dataset, test_labels = reformat(test_dataset, test_labels)\n",
    "print('Training set', train_dataset.shape, train_labels.shape)\n",
    "print('Validation set', valid_dataset.shape, valid_labels.shape)\n",
    "print('Test set', test_dataset.shape, test_labels.shape)"
   ]
  },
  {
   "cell_type": "code",
   "execution_count": 4,
   "metadata": {
    "cellView": "both",
    "colab": {
     "autoexec": {
      "startup": false,
      "wait_interval": 0
     }
    },
    "colab_type": "code",
    "id": "RajPLaL_ZW6w"
   },
   "outputs": [],
   "source": [
    "def accuracy(predictions, labels):\n",
    "  return (100.0 * np.sum(np.argmax(predictions, 1) == np.argmax(labels, 1))\n",
    "          / predictions.shape[0])"
   ]
  },
  {
   "cell_type": "markdown",
   "metadata": {
    "colab_type": "text",
    "id": "sgLbUAQ1CW-1"
   },
   "source": [
    "---\n",
    "Problem 1\n",
    "---------\n",
    "\n",
    "Introduce and tune L2 regularization for both logistic and neural network models. Remember that L2 amounts to adding a penalty on the norm of the weights to the loss. In TensorFlow, you can compute the L2 loss for a tensor `t` using `nn.l2_loss(t)`. The right amount of regularization should improve your validation / test accuracy.\n",
    "\n",
    "---"
   ]
  },
  {
   "cell_type": "code",
   "execution_count": 17,
   "metadata": {},
   "outputs": [
    {
     "name": "stdout",
     "output_type": "stream",
     "text": [
      "Initialized\n",
      "Minibatch loss at step 0: 16.563961\n",
      "Minibatch accuracy: 7.0%\n",
      "Validation accuracy: 13.7%\n",
      "Minibatch loss at step 500: 2.034568\n",
      "Minibatch accuracy: 68.8%\n",
      "Validation accuracy: 76.2%\n",
      "Minibatch loss at step 1000: 2.051915\n",
      "Minibatch accuracy: 69.5%\n",
      "Validation accuracy: 76.7%\n",
      "Minibatch loss at step 1500: 1.154994\n",
      "Minibatch accuracy: 78.1%\n",
      "Validation accuracy: 77.6%\n",
      "Minibatch loss at step 2000: 1.070973\n",
      "Minibatch accuracy: 76.6%\n",
      "Validation accuracy: 78.3%\n",
      "Minibatch loss at step 2500: 1.365877\n",
      "Minibatch accuracy: 76.6%\n",
      "Validation accuracy: 78.5%\n",
      "Minibatch loss at step 3000: 0.969469\n",
      "Minibatch accuracy: 81.2%\n",
      "Validation accuracy: 79.4%\n",
      "#############################\n",
      "Test accuracy: 85.7% with beta=0.000010\n"
     ]
    }
   ],
   "source": [
    "graph = tf.Graph()\n",
    "with graph.as_default():\n",
    "...\n",
    " loss = tf.reduce_mean(\n",
    "    tf.nn.softmax_cross_entropy_with_logits(labels=tf_train_labels, logits=logits))+ \\\n",
    "    tf.scalar_mul(beta, tf.nn.l2_loss(weights1)+tf.nn.l2_loss(weights2))\n",
    "    \n"
   ]
  },
  {
   "cell_type": "markdown",
   "metadata": {},
   "source": [
    "##### summary\n",
    "With\n",
    "```python\n",
    "batch_size = 128\n",
    "num_hidden_nodes = 1024\n",
    "beta = 1e-3\n",
    "num_steps = 3001\n",
    "```\n",
    "\n",
    "Results\n",
    "* Test accuracy: 88.5% with beta=0.000000 (no L2 regulization)\n",
    "* Test accuracy: 86.7% with beta=0.000010\n",
    "* Test accuracy: 88.8% with beta=0.000100\n",
    "* **Test accuracy: 92.6% with beta=0.001000**\n",
    "* Test accuracy: 89.7% with beta=0.010000\n",
    "* Test accuracy: 82.2% with beta=0.100000\n",
    "* Test accuracy: 10.0% with beta=1.000000\n"
   ]
  },
  {
   "cell_type": "markdown",
   "metadata": {
    "colab_type": "text",
    "id": "na8xX2yHZzNF"
   },
   "source": [
    "---\n",
    "Problem 2\n",
    "---------\n",
    "Let's demonstrate an extreme case of overfitting. Restrict your training data to just a few batches. What happens?\n",
    "\n",
    "---"
   ]
  },
  {
   "cell_type": "code",
   "execution_count": 7,
   "metadata": {},
   "outputs": [
    {
     "name": "stdout",
     "output_type": "stream",
     "text": [
      "Initialized\n",
      "Minibatch loss at step 0: 20.999857\n",
      "Minibatch accuracy: 4.7%\n",
      "Validation accuracy: 8.8%\n",
      "Minibatch loss at step 500: 1.807533\n",
      "Minibatch accuracy: 100.0%\n",
      "Validation accuracy: 54.6%\n",
      "Minibatch loss at step 1000: 1.104561\n",
      "Minibatch accuracy: 100.0%\n",
      "Validation accuracy: 58.0%\n",
      "Minibatch loss at step 1500: 0.679056\n",
      "Minibatch accuracy: 100.0%\n",
      "Validation accuracy: 60.6%\n",
      "Minibatch loss at step 2000: 0.421669\n",
      "Minibatch accuracy: 100.0%\n",
      "Validation accuracy: 62.7%\n",
      "Minibatch loss at step 2500: 0.266144\n",
      "Minibatch accuracy: 100.0%\n",
      "Validation accuracy: 64.5%\n",
      "Minibatch loss at step 3000: 0.172263\n",
      "Minibatch accuracy: 100.0%\n",
      "Validation accuracy: 66.0%\n",
      "#############################\n",
      "Test accuracy: 71.4% with beta=0.001000\n"
     ]
    }
   ],
   "source": [
    "batch_size = 128\n",
    "num_steps = 3001\n",
    "beta = 0.001\n",
    "\n",
    "################################################\n",
    "with tf.Session(graph=graph) as session:\n",
    "  tf.global_variables_initializer().run()\n",
    "  print(\"Initialized\")\n",
    "  for step in range(num_steps):\n",
    "    # Pick an offset within the training data, which has been randomized.\n",
    "    # Note: we could use better randomization across epochs.\n",
    "    offset = 1 #### only change in problem 2\n",
    "    # Generate a minibatch.\n",
    "    batch_data = train_dataset[offset:(offset + batch_size), :]\n",
    "    batch_labels = train_labels[offset:(offset + batch_size), :]\n",
    "    # Prepare a dictionary telling the session where to feed the minibatch.\n",
    "    # The key of the dictionary is the placeholder node of the graph to be fed,\n",
    "    # and the value is the numpy array to feed to it.\n",
    "    feed_dict = {tf_train_dataset : batch_data, tf_train_labels : batch_labels}\n",
    "    _, l, predictions = session.run(\n",
    "      [optimizer, loss, train_prediction], feed_dict=feed_dict)\n",
    "    if (step % 500 == 0):\n",
    "    #if (step % 1 == 0):\n",
    "      print(\"Minibatch loss at step %d: %f\" % (step, l))\n",
    "      print(\"Minibatch accuracy: %.1f%%\" % accuracy(predictions, batch_labels))\n",
    "      print(\"Validation accuracy: %.1f%%\" % accuracy(\n",
    "        valid_prediction.eval(), valid_labels))\n",
    "  print('#############################')\n",
    "  print(\"Test accuracy: %.1f%% with beta=%f\" % (accuracy(test_prediction.eval(), test_labels), beta))"
   ]
  },
  {
   "cell_type": "markdown",
   "metadata": {},
   "source": [
    "With \n",
    "```python\n",
    "batch_size = 128\n",
    "num_steps = 3001\n",
    "beta = 0.001\n",
    "```\n",
    "* Problem 1: Test accuracy: 88.0% with beta=0.001000\n",
    "* Problem 2: Test accuracy: 71.4% with beta=0.001000"
   ]
  },
  {
   "cell_type": "markdown",
   "metadata": {
    "colab_type": "text",
    "id": "ww3SCBUdlkRc"
   },
   "source": [
    "---\n",
    "Problem 3\n",
    "---------\n",
    "Introduce Dropout on the hidden layer of the neural network. Remember: Dropout should only be introduced during training, not evaluation, otherwise your evaluation results would be stochastic as well. TensorFlow provides `nn.dropout()` for that, but you have to make sure it's only inserted during training.\n",
    "\n",
    "What happens to our extreme overfitting case?\n",
    "\n",
    "---"
   ]
  },
  {
   "cell_type": "code",
   "execution_count": 16,
   "metadata": {},
   "outputs": [
    {
     "name": "stdout",
     "output_type": "stream",
     "text": [
      "Initialized\n",
      "Minibatch loss at step 0: 30.585913\n",
      "Minibatch accuracy: 8.6%\n",
      "Validation accuracy: 13.1%\n",
      "Minibatch loss at step 500: 3.897573\n",
      "Minibatch accuracy: 39.1%\n",
      "Validation accuracy: 75.6%\n",
      "Minibatch loss at step 1000: 2.733506\n",
      "Minibatch accuracy: 46.9%\n",
      "Validation accuracy: 76.9%\n",
      "Minibatch loss at step 1500: 1.750470\n",
      "Minibatch accuracy: 53.1%\n",
      "Validation accuracy: 78.3%\n",
      "Minibatch loss at step 2000: 1.822119\n",
      "Minibatch accuracy: 43.0%\n",
      "Validation accuracy: 78.2%\n",
      "Minibatch loss at step 2500: 1.804763\n",
      "Minibatch accuracy: 39.8%\n",
      "Validation accuracy: 79.6%\n",
      "Minibatch loss at step 3000: 1.631987\n",
      "Minibatch accuracy: 41.4%\n",
      "Validation accuracy: 78.5%\n",
      "Minibatch loss at step 3500: 1.524636\n",
      "Minibatch accuracy: 52.3%\n",
      "Validation accuracy: 78.4%\n",
      "Minibatch loss at step 4000: 1.485615\n",
      "Minibatch accuracy: 44.5%\n",
      "Validation accuracy: 78.7%\n",
      "Minibatch loss at step 4500: 1.581459\n",
      "Minibatch accuracy: 48.4%\n",
      "Validation accuracy: 79.5%\n",
      "Minibatch loss at step 5000: 1.412006\n",
      "Minibatch accuracy: 46.9%\n",
      "Validation accuracy: 80.5%\n",
      "Minibatch loss at step 5500: 1.414917\n",
      "Minibatch accuracy: 48.4%\n",
      "Validation accuracy: 80.1%\n",
      "Minibatch loss at step 6000: 1.493907\n",
      "Minibatch accuracy: 48.4%\n",
      "Validation accuracy: 79.3%\n",
      "Minibatch loss at step 6500: 1.510018\n",
      "Minibatch accuracy: 43.8%\n",
      "Validation accuracy: 79.5%\n",
      "Minibatch loss at step 7000: 1.413630\n",
      "Minibatch accuracy: 41.4%\n",
      "Validation accuracy: 78.7%\n",
      "Minibatch loss at step 7500: 1.636736\n",
      "Minibatch accuracy: 43.8%\n",
      "Validation accuracy: 77.3%\n",
      "Minibatch loss at step 8000: 1.774775\n",
      "Minibatch accuracy: 44.5%\n",
      "Validation accuracy: 79.8%\n",
      "Minibatch loss at step 8500: 1.609373\n",
      "Minibatch accuracy: 45.3%\n",
      "Validation accuracy: 80.7%\n",
      "Minibatch loss at step 9000: 1.399000\n",
      "Minibatch accuracy: 53.1%\n",
      "Validation accuracy: 78.9%\n",
      "Minibatch loss at step 9500: 1.613321\n",
      "Minibatch accuracy: 45.3%\n",
      "Validation accuracy: 78.8%\n",
      "Minibatch loss at step 10000: 1.584852\n",
      "Minibatch accuracy: 50.8%\n",
      "Validation accuracy: 78.7%\n",
      "Minibatch loss at step 10500: 1.508459\n",
      "Minibatch accuracy: 50.0%\n",
      "Validation accuracy: 76.6%\n",
      "Minibatch loss at step 11000: 1.524182\n",
      "Minibatch accuracy: 46.1%\n",
      "Validation accuracy: 77.8%\n",
      "Minibatch loss at step 11500: 1.283818\n",
      "Minibatch accuracy: 57.0%\n",
      "Validation accuracy: 79.7%\n",
      "Minibatch loss at step 12000: 1.453161\n",
      "Minibatch accuracy: 48.4%\n",
      "Validation accuracy: 79.7%\n",
      "Minibatch loss at step 12500: 1.316907\n",
      "Minibatch accuracy: 48.4%\n",
      "Validation accuracy: 78.8%\n",
      "Minibatch loss at step 13000: 1.574114\n",
      "Minibatch accuracy: 44.5%\n",
      "Validation accuracy: 78.3%\n",
      "Minibatch loss at step 13500: 1.949055\n",
      "Minibatch accuracy: 41.4%\n",
      "Validation accuracy: 78.6%\n",
      "Minibatch loss at step 14000: 1.250112\n",
      "Minibatch accuracy: 53.1%\n",
      "Validation accuracy: 80.2%\n",
      "Minibatch loss at step 14500: 1.645989\n",
      "Minibatch accuracy: 44.5%\n",
      "Validation accuracy: 74.5%\n",
      "Minibatch loss at step 15000: 1.538338\n",
      "Minibatch accuracy: 45.3%\n",
      "Validation accuracy: 78.6%\n",
      "Minibatch loss at step 15500: 1.959649\n",
      "Minibatch accuracy: 41.4%\n",
      "Validation accuracy: 72.7%\n",
      "Minibatch loss at step 16000: 1.585189\n",
      "Minibatch accuracy: 39.8%\n",
      "Validation accuracy: 78.3%\n",
      "Minibatch loss at step 16500: 1.725121\n",
      "Minibatch accuracy: 40.6%\n",
      "Validation accuracy: 77.5%\n",
      "Minibatch loss at step 17000: 1.650997\n",
      "Minibatch accuracy: 51.6%\n",
      "Validation accuracy: 80.4%\n",
      "Minibatch loss at step 17500: 1.463899\n",
      "Minibatch accuracy: 43.0%\n",
      "Validation accuracy: 79.9%\n",
      "Minibatch loss at step 18000: 1.715439\n",
      "Minibatch accuracy: 40.6%\n",
      "Validation accuracy: 78.1%\n",
      "Minibatch loss at step 18500: 1.449358\n",
      "Minibatch accuracy: 48.4%\n",
      "Validation accuracy: 79.8%\n",
      "Minibatch loss at step 19000: 1.509482\n",
      "Minibatch accuracy: 46.1%\n",
      "Validation accuracy: 72.0%\n",
      "Minibatch loss at step 19500: 1.446610\n",
      "Minibatch accuracy: 57.8%\n",
      "Validation accuracy: 78.5%\n",
      "Minibatch loss at step 20000: 1.469038\n",
      "Minibatch accuracy: 51.6%\n",
      "Validation accuracy: 77.7%\n",
      "Minibatch loss at step 20500: 1.690806\n",
      "Minibatch accuracy: 46.9%\n",
      "Validation accuracy: 79.4%\n",
      "Minibatch loss at step 21000: 1.843234\n",
      "Minibatch accuracy: 43.8%\n",
      "Validation accuracy: 75.5%\n",
      "Minibatch loss at step 21500: 1.472413\n",
      "Minibatch accuracy: 42.2%\n",
      "Validation accuracy: 78.2%\n",
      "Minibatch loss at step 22000: 1.487585\n",
      "Minibatch accuracy: 43.0%\n",
      "Validation accuracy: 79.4%\n",
      "Minibatch loss at step 22500: 1.493394\n",
      "Minibatch accuracy: 44.5%\n",
      "Validation accuracy: 80.0%\n",
      "Minibatch loss at step 23000: 1.651950\n",
      "Minibatch accuracy: 50.8%\n",
      "Validation accuracy: 79.7%\n",
      "Minibatch loss at step 23500: 1.353053\n",
      "Minibatch accuracy: 50.8%\n",
      "Validation accuracy: 79.4%\n",
      "Minibatch loss at step 24000: 1.373481\n",
      "Minibatch accuracy: 47.7%\n",
      "Validation accuracy: 80.6%\n",
      "Minibatch loss at step 24500: 1.225952\n",
      "Minibatch accuracy: 53.9%\n",
      "Validation accuracy: 80.9%\n",
      "Minibatch loss at step 25000: 1.740003\n",
      "Minibatch accuracy: 43.0%\n",
      "Validation accuracy: 70.4%\n",
      "Minibatch loss at step 25500: 1.303675\n",
      "Minibatch accuracy: 50.8%\n",
      "Validation accuracy: 80.4%\n",
      "Minibatch loss at step 26000: 1.307753\n",
      "Minibatch accuracy: 51.6%\n",
      "Validation accuracy: 80.3%\n",
      "Minibatch loss at step 26500: 1.435155\n",
      "Minibatch accuracy: 47.7%\n",
      "Validation accuracy: 76.9%\n",
      "Minibatch loss at step 27000: 1.482148\n",
      "Minibatch accuracy: 49.2%\n",
      "Validation accuracy: 79.0%\n",
      "Minibatch loss at step 27500: 1.296636\n",
      "Minibatch accuracy: 47.7%\n",
      "Validation accuracy: 80.9%\n",
      "Minibatch loss at step 28000: 1.519453\n",
      "Minibatch accuracy: 45.3%\n",
      "Validation accuracy: 76.6%\n",
      "Minibatch loss at step 28500: 1.295954\n",
      "Minibatch accuracy: 51.6%\n",
      "Validation accuracy: 80.6%\n",
      "Minibatch loss at step 29000: 1.442762\n",
      "Minibatch accuracy: 47.7%\n",
      "Validation accuracy: 79.4%\n",
      "Minibatch loss at step 29500: 1.586357\n",
      "Minibatch accuracy: 48.4%\n",
      "Validation accuracy: 78.2%\n",
      "Minibatch loss at step 30000: 1.383885\n",
      "Minibatch accuracy: 47.7%\n",
      "Validation accuracy: 79.0%\n",
      "#############################\n",
      "Test accuracy: 85.2% with beta=0.001000\n"
     ]
    }
   ],
   "source": [
    "batch_size = 128\n",
    "num_steps = 30001\n",
    "beta = 0.001\n",
    "keep_rate = 0.5\n",
    "\n",
    "graph = tf.Graph()\n",
    "with graph.as_default():\n",
    "\n",
    "  # Input data. For the training data, we use a placeholder that will be fed\n",
    "  # at run time with a training minibatch.\n",
    "  tf_train_dataset = tf.placeholder(tf.float32,\n",
    "                                    shape=(batch_size, image_size * image_size))\n",
    "  tf_train_labels = tf.placeholder(tf.float32, shape=(batch_size, num_labels))\n",
    "  tf_valid_dataset = tf.constant(valid_dataset)\n",
    "  tf_test_dataset = tf.constant(test_dataset)\n",
    "  \n",
    "  # Variables.\n",
    "  weights = tf.Variable(\n",
    "    tf.truncated_normal([image_size * image_size, num_labels]))\n",
    "  biases = tf.Variable(tf.zeros([num_labels]))\n",
    "  \n",
    "\n",
    "  # Training computation.\n",
    "  logits = tf.matmul(tf_train_dataset, weights) + biases\n",
    "  logits = tf.nn.dropout(logits, keep_rate)\n",
    "\n",
    "  loss = tf.reduce_mean(\n",
    "    tf.nn.softmax_cross_entropy_with_logits(labels=tf_train_labels, logits=logits)) + \\\n",
    "    tf.scalar_mul(beta, tf.nn.l2_loss(weights))\n",
    "  \n",
    "  # Optimizer.\n",
    "  optimizer = tf.train.GradientDescentOptimizer(0.5).minimize(loss)\n",
    "  \n",
    "  # Predictions for the training, validation, and test data.\n",
    "  train_prediction = tf.nn.softmax(logits)\n",
    "  valid_prediction = tf.nn.softmax(tf.matmul(tf_valid_dataset, weights) + biases)\n",
    "  test_prediction = tf.nn.softmax(tf.matmul(tf_test_dataset, weights) + biases)\n",
    "    \n",
    "\n",
    "################################################\n",
    "with tf.Session(graph=graph) as session:\n",
    "  tf.global_variables_initializer().run()\n",
    "  print(\"Initialized\")\n",
    "  for step in range(num_steps):\n",
    "    # Pick an offset within the training data, which has been randomized.\n",
    "    # Note: we could use better randomization across epochs.\n",
    "    offset = (step * batch_size) % (train_labels.shape[0] - batch_size)\n",
    "    # Generate a minibatch.\n",
    "    batch_data = train_dataset[offset:(offset + batch_size), :]\n",
    "    batch_labels = train_labels[offset:(offset + batch_size), :]\n",
    "    # Prepare a dictionary telling the session where to feed the minibatch.\n",
    "    # The key of the dictionary is the placeholder node of the graph to be fed,\n",
    "    # and the value is the numpy array to feed to it.\n",
    "    feed_dict = {tf_train_dataset : batch_data, tf_train_labels : batch_labels}\n",
    "    _, l, predictions = session.run(\n",
    "      [optimizer, loss, train_prediction], feed_dict=feed_dict)\n",
    "    if (step % 500 == 0):\n",
    "    #if (step % 1 == 0):\n",
    "      print(\"Minibatch loss at step %d: %f\" % (step, l))\n",
    "      print(\"Minibatch accuracy: %.1f%%\" % accuracy(predictions, batch_labels))\n",
    "      print(\"Validation accuracy: %.1f%%\" % accuracy(\n",
    "        valid_prediction.eval(), valid_labels))\n",
    "  print('#############################')\n",
    "  print(\"Test accuracy: %.1f%% with beta=%f\" % (accuracy(test_prediction.eval(), test_labels), beta))"
   ]
  },
  {
   "cell_type": "markdown",
   "metadata": {
    "colab_type": "text",
    "id": "-b1hTz3VWZjw"
   },
   "source": [
    "---\n",
    "Problem 4\n",
    "---------\n",
    "\n",
    "Try to get the best performance you can using a multi-layer model! The best reported test accuracy using a deep network is [97.1%](http://yaroslavvb.blogspot.com/2011/09/notmnist-dataset.html?showComment=1391023266211#c8758720086795711595).\n",
    "\n",
    "One avenue you can explore is to add multiple layers.\n",
    "\n",
    "Another one is to use learning rate decay:\n",
    "\n",
    "    global_step = tf.Variable(0)  # count the number of steps taken.\n",
    "    learning_rate = tf.train.exponential_decay(0.5, global_step, ...)\n",
    "    optimizer = tf.train.GradientDescentOptimizer(learning_rate).minimize(loss, global_step=global_step)\n",
    " \n",
    " ---\n"
   ]
  },
  {
   "cell_type": "code",
   "execution_count": null,
   "metadata": {},
   "outputs": [],
   "source": []
  }
 ],
 "metadata": {
  "colab": {
   "default_view": {},
   "name": "3_regularization.ipynb",
   "provenance": [],
   "version": "0.3.2",
   "views": {}
  },
  "kernelspec": {
   "display_name": "Python 3",
   "language": "python",
   "name": "python3"
  },
  "language_info": {
   "codemirror_mode": {
    "name": "ipython",
    "version": 3
   },
   "file_extension": ".py",
   "mimetype": "text/x-python",
   "name": "python",
   "nbconvert_exporter": "python",
   "pygments_lexer": "ipython3",
   "version": "3.6.3"
  }
 },
 "nbformat": 4,
 "nbformat_minor": 1
}
