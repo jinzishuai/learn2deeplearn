{
 "cells": [
  {
   "cell_type": "markdown",
   "metadata": {
    "colab_type": "text",
    "id": "kR-4eNdK6lYS"
   },
   "source": [
    "Deep Learning\n",
    "=============\n",
    "\n",
    "Assignment 3\n",
    "------------\n",
    "\n",
    "Previously in `2_fullyconnected.ipynb`, you trained a logistic regression and a neural network model.\n",
    "\n",
    "The goal of this assignment is to explore regularization techniques."
   ]
  },
  {
   "cell_type": "code",
   "execution_count": 1,
   "metadata": {
    "cellView": "both",
    "colab": {
     "autoexec": {
      "startup": false,
      "wait_interval": 0
     }
    },
    "colab_type": "code",
    "id": "JLpLa8Jt7Vu4"
   },
   "outputs": [
    {
     "name": "stderr",
     "output_type": "stream",
     "text": [
      "e:\\python36\\lib\\site-packages\\h5py\\__init__.py:36: FutureWarning: Conversion of the second argument of issubdtype from `float` to `np.floating` is deprecated. In future, it will be treated as `np.float64 == np.dtype(float).type`.\n",
      "  from ._conv import register_converters as _register_converters\n"
     ]
    }
   ],
   "source": [
    "# These are all the modules we'll be using later. Make sure you can import them\n",
    "# before proceeding further.\n",
    "from __future__ import print_function\n",
    "import numpy as np\n",
    "import tensorflow as tf\n",
    "from six.moves import cPickle as pickle"
   ]
  },
  {
   "cell_type": "markdown",
   "metadata": {
    "colab_type": "text",
    "id": "1HrCK6e17WzV"
   },
   "source": [
    "First reload the data we generated in `1_notmnist.ipynb`."
   ]
  },
  {
   "cell_type": "code",
   "execution_count": 2,
   "metadata": {
    "cellView": "both",
    "colab": {
     "autoexec": {
      "startup": false,
      "wait_interval": 0
     },
     "output_extras": [
      {
       "item_id": 1
      }
     ]
    },
    "colab_type": "code",
    "executionInfo": {
     "elapsed": 11777,
     "status": "ok",
     "timestamp": 1449849322348,
     "user": {
      "color": "",
      "displayName": "",
      "isAnonymous": false,
      "isMe": true,
      "permissionId": "",
      "photoUrl": "",
      "sessionId": "0",
      "userId": ""
     },
     "user_tz": 480
    },
    "id": "y3-cj1bpmuxc",
    "outputId": "e03576f1-ebbe-4838-c388-f1777bcc9873"
   },
   "outputs": [
    {
     "name": "stdout",
     "output_type": "stream",
     "text": [
      "Training set (200000, 28, 28) (200000,)\n",
      "Validation set (10000, 28, 28) (10000,)\n",
      "Test set (10000, 28, 28) (10000,)\n"
     ]
    }
   ],
   "source": [
    "pickle_file = '../notMNIST.pickle'\n",
    "\n",
    "with open(pickle_file, 'rb') as f:\n",
    "  save = pickle.load(f)\n",
    "  train_dataset = save['train_dataset']\n",
    "  train_labels = save['train_labels']\n",
    "  valid_dataset = save['valid_dataset']\n",
    "  valid_labels = save['valid_labels']\n",
    "  test_dataset = save['test_dataset']\n",
    "  test_labels = save['test_labels']\n",
    "  del save  # hint to help gc free up memory\n",
    "  print('Training set', train_dataset.shape, train_labels.shape)\n",
    "  print('Validation set', valid_dataset.shape, valid_labels.shape)\n",
    "  print('Test set', test_dataset.shape, test_labels.shape)"
   ]
  },
  {
   "cell_type": "markdown",
   "metadata": {
    "colab_type": "text",
    "id": "L7aHrm6nGDMB"
   },
   "source": [
    "Reformat into a shape that's more adapted to the models we're going to train:\n",
    "- data as a flat matrix,\n",
    "- labels as float 1-hot encodings."
   ]
  },
  {
   "cell_type": "code",
   "execution_count": 3,
   "metadata": {
    "cellView": "both",
    "colab": {
     "autoexec": {
      "startup": false,
      "wait_interval": 0
     },
     "output_extras": [
      {
       "item_id": 1
      }
     ]
    },
    "colab_type": "code",
    "executionInfo": {
     "elapsed": 11728,
     "status": "ok",
     "timestamp": 1449849322356,
     "user": {
      "color": "",
      "displayName": "",
      "isAnonymous": false,
      "isMe": true,
      "permissionId": "",
      "photoUrl": "",
      "sessionId": "0",
      "userId": ""
     },
     "user_tz": 480
    },
    "id": "IRSyYiIIGIzS",
    "outputId": "3f8996ee-3574-4f44-c953-5c8a04636582"
   },
   "outputs": [
    {
     "name": "stdout",
     "output_type": "stream",
     "text": [
      "Training set (200000, 784) (200000, 10)\n",
      "Validation set (10000, 784) (10000, 10)\n",
      "Test set (10000, 784) (10000, 10)\n"
     ]
    }
   ],
   "source": [
    "image_size = 28\n",
    "num_labels = 10\n",
    "\n",
    "def reformat(dataset, labels):\n",
    "  dataset = dataset.reshape((-1, image_size * image_size)).astype(np.float32)\n",
    "  # Map 1 to [0.0, 1.0, 0.0 ...], 2 to [0.0, 0.0, 1.0 ...]\n",
    "  labels = (np.arange(num_labels) == labels[:,None]).astype(np.float32)\n",
    "  return dataset, labels\n",
    "train_dataset, train_labels = reformat(train_dataset, train_labels)\n",
    "valid_dataset, valid_labels = reformat(valid_dataset, valid_labels)\n",
    "test_dataset, test_labels = reformat(test_dataset, test_labels)\n",
    "print('Training set', train_dataset.shape, train_labels.shape)\n",
    "print('Validation set', valid_dataset.shape, valid_labels.shape)\n",
    "print('Test set', test_dataset.shape, test_labels.shape)"
   ]
  },
  {
   "cell_type": "code",
   "execution_count": 4,
   "metadata": {
    "cellView": "both",
    "colab": {
     "autoexec": {
      "startup": false,
      "wait_interval": 0
     }
    },
    "colab_type": "code",
    "id": "RajPLaL_ZW6w"
   },
   "outputs": [],
   "source": [
    "def accuracy(predictions, labels):\n",
    "  return (100.0 * np.sum(np.argmax(predictions, 1) == np.argmax(labels, 1))\n",
    "          / predictions.shape[0])"
   ]
  },
  {
   "cell_type": "markdown",
   "metadata": {
    "colab_type": "text",
    "id": "sgLbUAQ1CW-1"
   },
   "source": [
    "---\n",
    "Problem 1\n",
    "---------\n",
    "\n",
    "Introduce and tune L2 regularization for both logistic and neural network models. Remember that L2 amounts to adding a penalty on the norm of the weights to the loss. In TensorFlow, you can compute the L2 loss for a tensor `t` using `nn.l2_loss(t)`. The right amount of regularization should improve your validation / test accuracy.\n",
    "\n",
    "---"
   ]
  },
  {
   "cell_type": "code",
   "execution_count": 3,
   "metadata": {},
   "outputs": [
    {
     "ename": "IndentationError",
     "evalue": "unexpected indent (<ipython-input-3-77afdc05f092>, line 2)",
     "output_type": "error",
     "traceback": [
      "\u001b[1;36m  File \u001b[1;32m\"<ipython-input-3-77afdc05f092>\"\u001b[1;36m, line \u001b[1;32m2\u001b[0m\n\u001b[1;33m    tf.nn.softmax_cross_entropy_with_logits(labels=tf_train_labels, logits=logits))+     tf.scalar_mul(beta, tf.nn.l2_loss(weights1)+tf.nn.l2_loss(weights2))\u001b[0m\n\u001b[1;37m    ^\u001b[0m\n\u001b[1;31mIndentationError\u001b[0m\u001b[1;31m:\u001b[0m unexpected indent\n"
     ]
    }
   ],
   "source": [
    "graph = tf.Graph()\n",
    "with graph.as_default():\n",
    "...\n",
    " loss = tf.reduce_mean(\n",
    "    tf.nn.softmax_cross_entropy_with_logits(labels=tf_train_labels, logits=logits))+ \\\n",
    "    tf.scalar_mul(beta, tf.nn.l2_loss(weights1)+tf.nn.l2_loss(weights2))\n",
    "    \n"
   ]
  },
  {
   "cell_type": "markdown",
   "metadata": {},
   "source": [
    "##### summary\n",
    "With\n",
    "```python\n",
    "batch_size = 128\n",
    "num_hidden_nodes = 1024\n",
    "beta = 1e-3\n",
    "num_steps = 3001\n",
    "```\n",
    "\n",
    "Results\n",
    "* Test accuracy: 88.5% with beta=0.000000 (no L2 regulization)\n",
    "* Test accuracy: 86.7% with beta=0.000010\n",
    "* Test accuracy: 88.8% with beta=0.000100\n",
    "* **Test accuracy: 92.6% with beta=0.001000**\n",
    "* Test accuracy: 89.7% with beta=0.010000\n",
    "* Test accuracy: 82.2% with beta=0.100000\n",
    "* Test accuracy: 10.0% with beta=1.000000\n"
   ]
  },
  {
   "cell_type": "markdown",
   "metadata": {
    "colab_type": "text",
    "id": "na8xX2yHZzNF"
   },
   "source": [
    "---\n",
    "Problem 2\n",
    "---------\n",
    "Let's demonstrate an extreme case of overfitting. Restrict your training data to just a few batches. What happens?\n",
    "\n",
    "---"
   ]
  },
  {
   "cell_type": "code",
   "execution_count": 1,
   "metadata": {},
   "outputs": [],
   "source": [
    "   offset = 0 #offset = (step * batch_size) % (train_labels.shape[0] - batch_size)"
   ]
  },
  {
   "cell_type": "markdown",
   "metadata": {},
   "source": [
    "With\n",
    "```python\n",
    "batch_size = 128\n",
    "num_hidden_nodes = 1024\n",
    "beta = 1e-3\n",
    "num_steps = 3001\n",
    "```\n",
    "\n",
    "Results\n",
    "* Original Test accuracy: 92.6% with beta=0.001000\n",
    "* With `offset = 0`: Test accuracy: 67.5% with beta=0.001000"
   ]
  },
  {
   "cell_type": "markdown",
   "metadata": {
    "colab_type": "text",
    "id": "ww3SCBUdlkRc"
   },
   "source": [
    "---\n",
    "Problem 3\n",
    "---------\n",
    "Introduce Dropout on the hidden layer of the neural network. Remember: Dropout should only be introduced during training, not evaluation, otherwise your evaluation results would be stochastic as well. TensorFlow provides `nn.dropout()` for that, but you have to make sure it's only inserted during training.\n",
    "\n",
    "What happens to our extreme overfitting case?\n",
    "\n",
    "---"
   ]
  },
  {
   "cell_type": "code",
   "execution_count": null,
   "metadata": {},
   "outputs": [],
   "source": [
    "  keep_rate = 0.5\n",
    "  dropout = tf.nn.dropout(activated_hidden_layer, keep_rate) #dropout if applied after activation\n",
    "  logits = tf.matmul(dropout, weights2) + biases2 "
   ]
  },
  {
   "cell_type": "markdown",
   "metadata": {},
   "source": [
    "Vary `keep_rate`:\n",
    "* Test accuracy: 92.7% with beta=0.001000, keep_rate =1.000000\n",
    "* Test accuracy: 92.3% with beta=0.001000, keep_rate =0.800000\n",
    "* Test accuracy: 91.8% with beta=0.001000, keep_rate =0.600000\n",
    "* Test accuracy: 90.7% with beta=0.001000, keep_rate =0.400000\n",
    "* Test accuracy: 87.0% with beta=0.001000, keep_rate =0.200000\n",
    "\n",
    "Vary `beta` while keep `keep_rate=0.5`\n",
    "* Test accuracy: 91.7% with beta=0.001000, keep_rate =0.500000\n",
    "* Test accuracy: 87.6% with beta=0.000100, keep_rate =0.500000 \n",
    "* Test accuracy: 89.5% with beta=0.010000, keep_rate =0.500000\n",
    "\n",
    "Note that `keep_rate` cannot be set to be 0: range (0, 1]\n",
    "\n",
    "### Worse Case `offset=0`: Significant Improvement\n",
    "* Normal: Test accuracy: 91.7% with beta=0.001000, keep_rate =0.500000\n",
    "* `offset = 0` without dropout: Test accuracy: 67.5% with beta=0.001000 (keep_rate =1)\n",
    "* `offset = 0` with dropout: Test accuracy: 74.6% with beta=0.001000, keep_rate =0.500000"
   ]
  },
  {
   "cell_type": "markdown",
   "metadata": {
    "colab_type": "text",
    "id": "-b1hTz3VWZjw"
   },
   "source": [
    "---\n",
    "Problem 4\n",
    "---------\n",
    "\n",
    "Try to get the best performance you can using a multi-layer model! The best reported test accuracy using a deep network is [97.1%](http://yaroslavvb.blogspot.com/2011/09/notmnist-dataset.html?showComment=1391023266211#c8758720086795711595).\n",
    "\n",
    "One avenue you can explore is to add multiple layers.\n",
    "\n",
    "Another one is to use learning rate decay:\n",
    "\n",
    "    global_step = tf.Variable(0)  # count the number of steps taken.\n",
    "    learning_rate = tf.train.exponential_decay(0.5, global_step, ...)\n",
    "    optimizer = tf.train.GradientDescentOptimizer(learning_rate).minimize(loss, global_step=global_step)\n",
    " \n",
    " ---\n"
   ]
  },
  {
   "cell_type": "markdown",
   "metadata": {},
   "source": [
    "### Fixed Learning Rate\n",
    "```\n",
    "batch_size = 128\n",
    "num_hidden_nodes1 = 1024\n",
    "num_hidden_nodes2 = 1024\n",
    "beta = 0.001\n",
    "num_steps = 3001\n",
    "keep_rate = 0.5\n",
    "learning_rate=1e-3\n",
    "```\n",
    "* **Test accuracy: 89.1% with beta=0.001000, keep_rate =0.500000, learning_rate=0.001000**\n",
    "* Test accuracy: 83.4% with beta=0.001000, keep_rate =0.500000, learning_rate=0.010000\n",
    "* learning_rate = 0.1: blow up with NaN\n",
    "* learning_rate = 0.5 (all runs in problem 1-3 are with 0.5): blow up with NaN\n",
    "* learning_rate = 1e-4: very slow"
   ]
  },
  {
   "cell_type": "markdown",
   "metadata": {},
   "source": [
    "### Learning Rate Decay"
   ]
  },
  {
   "cell_type": "markdown",
   "metadata": {},
   "source": [
    "* `learning_rate = tf.train.exponential_decay(0.01, global_step, 100, 0.95)`: Test accuracy: 85.5% with beta=0.001000, keep_rate =0.500000\n",
    "* **`learning_rate = tf.train.exponential_decay(0.005, global_step, 100, 0.95)`: Test accuracy: 88.9% with beta=0.001000, keep_rate =0.500000**\n",
    "* `learning_rate = tf.train.exponential_decay(0.001, global_step, 100, 0.95)`: Test accuracy: 89.3% with beta=0.001000, keep_rate =0.500000\n",
    "* `learning_rate = tf.train.exponential_decay(0.001, global_step, 100, 0.5)`: Test accuracy: 85.4% with beta=0.001000, keep_rate =0.500000\n",
    "* `learning_rate = tf.train.exponential_decay(0.01, global_step, 100, 0.5)`: Test accuracy: 88.0% with beta=0.001000, keep_rate =0.500000"
   ]
  },
  {
   "cell_type": "markdown",
   "metadata": {},
   "source": [
    "### More Data without Learning Rate De\n",
    "\n",
    "```\n",
    "batch_size = 128\n",
    "num_hidden_nodes1 = 1024\n",
    "num_hidden_nodes2 = 1024\n",
    "beta = 0.001\n",
    "num_steps = 30001\n",
    "keep_rate = 0.5\n",
    "learning_rate = 1e-3\n",
    "```\n",
    "* 30k steps: Test accuracy: 86.8% with beta=0.001000, keep_rate =0.500000"
   ]
  },
  {
   "cell_type": "markdown",
   "metadata": {},
   "source": [
    "#### change size of layers\n",
    "```\n",
    "batch_size = 128\n",
    "num_hidden_nodes1 = 256\n",
    "num_hidden_nodes2 = 512\n",
    "beta = 0.001\n",
    "num_steps = 3001\n",
    "keep_rate = 0.5\n",
    "learning_rate=1e-3\n",
    "```\n",
    "* Test accuracy: 86.1% with beta=0.001000, keep_rate =0.500000\n",
    "* Test accuracy: 85.7% with beta=0.001000, keep_rate =1.000000"
   ]
  },
  {
   "cell_type": "markdown",
   "metadata": {},
   "source": [
    "### Forum user mentioned 4 hidden layer solution to get to 97.3%\n",
    "https://discussions.udacity.com/t/assignment-3-3-how-to-implement-dropout/45730/24\n",
    "    \n",
    "> I was able to get an accuracy of 97.3% using a 4 hidden layer network 1024x1024x305x75 and 95k steps. The trick was to use good weight initialization (sqrt(2/n)) and lower dropout rate (I used 0.75). The code is here https://discussions.udacity.com/t/assignment-4-problem-2/46525/26?u=endri.deliu. With conv nets you get even higher."
   ]
  },
  {
   "cell_type": "markdown",
   "metadata": {},
   "source": [
    "#### [prob3.4_endri.deliu.py](./prob3.4_endri.deliu.py) runs (after fixing a few compilcation problems due to python-3) as following to get 96.7%:\n",
    "```\n",
    "Initialized\n",
    "Minibatch loss at step 0 : 2.4214315\n",
    "Minibatch accuracy: 33.6%\n",
    "Validation accuracy: 21.9%\n",
    "Minibatch loss at step 500 : 0.74792475\n",
    "Minibatch accuracy: 85.2%\n",
    "Validation accuracy: 85.1%\n",
    "Minibatch loss at step 1000 : 0.6289795\n",
    "Minibatch accuracy: 85.9%\n",
    "Validation accuracy: 86.6%\n",
    "Minibatch loss at step 1500 : 0.45435938\n",
    "Minibatch accuracy: 90.6%\n",
    "Validation accuracy: 87.2%\n",
    "Minibatch loss at step 2000 : 0.64454144\n",
    "Minibatch accuracy: 83.6%\n",
    "Validation accuracy: 87.9%\n",
    "Minibatch loss at step 2500 : 0.47072983\n",
    "Minibatch accuracy: 85.2%\n",
    "Validation accuracy: 88.7%\n",
    "Minibatch loss at step 3000 : 0.33217508\n",
    "Minibatch accuracy: 93.8%\n",
    "Validation accuracy: 88.8%\n",
    "...\n",
    "Minibatch loss at step 92500 : 0.14325579\n",
    "Minibatch accuracy: 98.4%\n",
    "Validation accuracy: 92.6%\n",
    "Minibatch loss at step 93000 : 0.07832281\n",
    "Minibatch accuracy: 98.4%\n",
    "Validation accuracy: 92.7%\n",
    "Minibatch loss at step 93500 : 0.056985322\n",
    "Minibatch accuracy: 99.2%\n",
    "Validation accuracy: 92.7%\n",
    "Minibatch loss at step 94000 : 0.097948775\n",
    "Minibatch accuracy: 99.2%\n",
    "Validation accuracy: 92.7%\n",
    "Minibatch loss at step 94500 : 0.08198348\n",
    "Minibatch accuracy: 97.7%\n",
    "Validation accuracy: 92.6%\n",
    "Minibatch loss at step 95000 : 0.10525039\n",
    "Minibatch accuracy: 98.4%\n",
    "Validation accuracy: 92.6%\n",
    "##########################\n",
    "Test accuracy: 96.7%\n",
    "```\n",
    "\n",
    "Full output is at [output_endri.deliu.txt](./output_endri.deliu.txt).\n",
    "\n",
    "#### Its setup\n",
    "```python\n",
    "batch_size = 128\n",
    "hidden_layer1_size = 1024\n",
    "hidden_layer2_size = 305\n",
    "hidden_lastlayer_size = 75\n",
    "\n",
    "use_multilayers = True\n",
    "\n",
    "regularization_meta=0.03 #Note that this is not used in the code (commented out)\n",
    "...\n",
    "num_steps = 95001\n",
    "```\n",
    "\n",
    "#### Analysis\n",
    "* 4 hidden layer network 1024x1024x305x75 inspite of the above definition of only 3 hidden layer sizes since the `hidden_layer1_size` is used twice.\n",
    "* learning rate deay is used: `learning_rate = tf.train.exponential_decay(0.3, global_step, 3500, 0.86, staircase=True)` \n",
    "* He uses the `n=weight_matrix.shape[0]` to calculate the initial distribution using `stddev=np.sqrt(2/n)`\n",
    "* dropout is used\n",
    "  * keep_prob=75% for training\n",
    "  * keep_prob=100% for validation and testing"
   ]
  },
  {
   "cell_type": "code",
   "execution_count": null,
   "metadata": {},
   "outputs": [],
   "source": []
  }
 ],
 "metadata": {
  "colab": {
   "default_view": {},
   "name": "3_regularization.ipynb",
   "provenance": [],
   "version": "0.3.2",
   "views": {}
  },
  "kernelspec": {
   "display_name": "Python 3",
   "language": "python",
   "name": "python3"
  },
  "language_info": {
   "codemirror_mode": {
    "name": "ipython",
    "version": 3
   },
   "file_extension": ".py",
   "mimetype": "text/x-python",
   "name": "python",
   "nbconvert_exporter": "python",
   "pygments_lexer": "ipython3",
   "version": "3.6.3"
  }
 },
 "nbformat": 4,
 "nbformat_minor": 1
}
